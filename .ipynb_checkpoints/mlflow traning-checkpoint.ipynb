{
 "cells": [
  {
   "cell_type": "code",
   "execution_count": 7,
   "id": "68285305",
   "metadata": {},
   "outputs": [],
   "source": [
    "import mlflow\n",
    "import numpy as np\n",
    "import pandas as pd\n",
    "from sklearn.model_selection import train_test_split, GridSearchCV\n",
    "from sklearn.linear_model import LogisticRegression\n",
    "from sklearn.ensemble import RandomForestClassifier\n",
    "from sklearn.metrics import classification_report,accuracy_score, f1_score\n",
    "from sklearn.datasets import make_classification\n",
    "import warnings\n",
    "warnings.filterwarnings('ignore')\n"
   ]
  },
  {
   "cell_type": "code",
   "execution_count": 8,
   "id": "0040d866",
   "metadata": {},
   "outputs": [],
   "source": [
    "#df['Sentence'] = df['Sentence'].apply(preprocess)\n",
    "#df['tokens'] = df['Sentence'].apply(word_tokenize)\n",
    "#df['tokens'] = df['tokens'].apply(handle_negations)"
   ]
  },
  {
   "cell_type": "code",
   "execution_count": 9,
   "id": "02c5b6cb",
   "metadata": {},
   "outputs": [
    {
     "data": {
      "text/plain": [
       "'df[\\'joined_text\\'] = df[\\'tokens\\'].apply(lambda x: \\' \\'.join(x))\\n\\n\\ntfidf_vectorizer = TfidfVectorizer(max_df=0.7, min_df=2)\\nX = tfidf_vectorizer.fit_transform(df[\\'joined_text\\'])\\n\\nY = df[\"Sentiment\"]'"
      ]
     },
     "execution_count": 9,
     "metadata": {},
     "output_type": "execute_result"
    }
   ],
   "source": [
    "'''df['joined_text'] = df['tokens'].apply(lambda x: ' '.join(x))\n",
    "\n",
    "\n",
    "tfidf_vectorizer = TfidfVectorizer(max_df=0.7, min_df=2)\n",
    "X = tfidf_vectorizer.fit_transform(df['joined_text'])\n",
    "\n",
    "Y = df[\"Sentiment\"]'''"
   ]
  },
  {
   "cell_type": "code",
   "execution_count": 10,
   "id": "9e4884ca",
   "metadata": {},
   "outputs": [],
   "source": [
    "X,Y=make_classification(n_samples = 1000,n_features=10,n_informative = 2,n_redundant=8,weights=[0.9,0.1],flip_y=0,random_state=21)"
   ]
  },
  {
   "cell_type": "code",
   "execution_count": 11,
   "id": "87bc6e99",
   "metadata": {},
   "outputs": [],
   "source": [
    "X_train, X_test, y_train, y_test = train_test_split(X, Y, stratify=Y, test_size=0.25, random_state=21)"
   ]
  },
  {
   "cell_type": "code",
   "execution_count": 12,
   "id": "647741ed",
   "metadata": {},
   "outputs": [],
   "source": [
    "params = {\n",
    "    \"solver\":'lbfgs',\n",
    "    \"max_iter\":1000,\n",
    "    'multi_class':\"auto\",\n",
    "    \"random_state\":21,\n",
    "}\n",
    "\n",
    "model = LogisticRegression(**params)\n",
    "model.fit(X_train,y_train)\n",
    "y_pred = model.predict(X_test)"
   ]
  },
  {
   "cell_type": "code",
   "execution_count": 13,
   "id": "11aa2e62",
   "metadata": {},
   "outputs": [
    {
     "data": {
      "text/plain": [
       "{'0': {'precision': 0.9824561403508771,\n",
       "  'recall': 0.9955555555555555,\n",
       "  'f1-score': 0.988962472406181,\n",
       "  'support': 225},\n",
       " '1': {'precision': 0.9545454545454546,\n",
       "  'recall': 0.84,\n",
       "  'f1-score': 0.8936170212765958,\n",
       "  'support': 25},\n",
       " 'accuracy': 0.98,\n",
       " 'macro avg': {'precision': 0.9685007974481659,\n",
       "  'recall': 0.9177777777777778,\n",
       "  'f1-score': 0.9412897468413883,\n",
       "  'support': 250},\n",
       " 'weighted avg': {'precision': 0.979665071770335,\n",
       "  'recall': 0.98,\n",
       "  'f1-score': 0.9794279272932224,\n",
       "  'support': 250}}"
      ]
     },
     "execution_count": 13,
     "metadata": {},
     "output_type": "execute_result"
    }
   ],
   "source": [
    "report_dict=classification_report(y_test,y_pred,output_dict=True)\n",
    "report_dict"
   ]
  },
  {
   "cell_type": "code",
   "execution_count": 15,
   "id": "577e2dbe",
   "metadata": {},
   "outputs": [
    {
     "name": "stderr",
     "output_type": "stream",
     "text": [
      "2024/11/23 14:34:28 WARNING mlflow.models.model: Model logged without a signature and input example. Please set `input_example` parameter when logging the model to auto infer the model signature.\n"
     ]
    },
    {
     "name": "stdout",
     "output_type": "stream",
     "text": [
      "🏃 View run unique-grub-70 at: http://127.0.0.1:5000/#/experiments/339850992649281311/runs/7214df6a68334646a33357d10ae0ebde\n",
      "🧪 View experiment at: http://127.0.0.1:5000/#/experiments/339850992649281311\n"
     ]
    }
   ],
   "source": [
    "mlflow.set_experiment(\"First Experiment\")\n",
    "mlflow.set_tracking_uri(\"http://127.0.0.1:5000\")\n",
    "\n",
    "with mlflow.start_run():\n",
    "    mlflow.log_params(params)\n",
    "    mlflow.log_metrics({\n",
    "        'accuracy':report_dict['accuracy'],\n",
    "        'recall_class_0':report_dict['0']['recall'],\n",
    "        'recall_class_1':report_dict['1']['recall'],\n",
    "        'f1_score_macro':report_dict['macro avg']['f1-score']\n",
    "    })\n",
    "    mlflow.sklearn.log_model(model,\"Logistic Regression\")"
   ]
  },
  {
   "cell_type": "code",
   "execution_count": null,
   "id": "aa30dfee",
   "metadata": {},
   "outputs": [],
   "source": []
  },
  {
   "cell_type": "code",
   "execution_count": null,
   "id": "00e68cac",
   "metadata": {},
   "outputs": [],
   "source": []
  }
 ],
 "metadata": {
  "kernelspec": {
   "display_name": "Python 3 (ipykernel)",
   "language": "python",
   "name": "python3"
  },
  "language_info": {
   "codemirror_mode": {
    "name": "ipython",
    "version": 3
   },
   "file_extension": ".py",
   "mimetype": "text/x-python",
   "name": "python",
   "nbconvert_exporter": "python",
   "pygments_lexer": "ipython3",
   "version": "3.10.9"
  }
 },
 "nbformat": 4,
 "nbformat_minor": 5
}
